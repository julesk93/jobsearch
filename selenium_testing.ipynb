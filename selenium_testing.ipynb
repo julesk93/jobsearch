{
 "cells": [
  {
   "cell_type": "code",
   "execution_count": 4,
   "metadata": {},
   "outputs": [],
   "source": [
    "from selenium import webdriver\n",
    "from selenium.webdriver.common.by import By\n",
    "from selenium.webdriver.common.keys import Keys\n",
    "from selenium.webdriver.chrome.service import Service\n",
    "import time\n",
    "from bs4 import BeautifulSoup"
   ]
  },
  {
   "cell_type": "code",
   "execution_count": 57,
   "metadata": {},
   "outputs": [],
   "source": [
    "# 1. Instanciate the Chrome service\n",
    "chromedriver_path = 'chromedriver-mac-arm64/chromedriver'\n",
    "service = Service(executable_path=chromedriver_path)\n",
    "\n",
    "# 2. Instanciate the webdriver\n",
    "options = webdriver.ChromeOptions()\n",
    "options.add_argument(\"--start-maximized\")\n",
    "driver = webdriver.Chrome(options=options, service=service)\n",
    "\n",
    "# 3. Open the LinkedIn login page\n",
    "driver.get('https://www.linkedin.com/')\n",
    "time.sleep(5) # waiting for the page to load\n",
    "\n",
    "# contents = [] \n",
    "# try:\n",
    "#     driver.find_element(By.XPATH,'//*[@id=\"main-content\"]/section[1]/div/div/section[1]/div/div/section/button[1]').click()\n",
    "#     time.sleep(1)      # Let the details load\n",
    "#     try:\n",
    "#         content=driver.find_element(By.CLASS_NAME,'show-more-less-html__markup').text    # Find the details on page\n",
    "#         html_content=driver.find_element(By.CLASS_NAME,'show-more-less-html__markup')\n",
    "#         contents.append(content)       # Append the content into the list\n",
    "#     except:\n",
    "#         contents.append(None)\n",
    "#         ValueError('no content')    \n",
    "# except:\n",
    "#     ValueError('smthng is wrong')\n",
    "# time.sleep(2)\n",
    "\n",
    "# # # Retrieve the fully rendered HTML\n",
    "# # html_content = driver.page_source\n",
    "\n",
    "# # use BeautifulSoup to parse the HTML content\n",
    "# soup = BeautifulSoup(html_content, 'html.parser')"
   ]
  },
  {
   "cell_type": "code",
   "execution_count": 58,
   "metadata": {},
   "outputs": [],
   "source": [
    "# Get and store cookies after login\n",
    "cookies = driver.get_cookies()"
   ]
  },
  {
   "cell_type": "code",
   "execution_count": 59,
   "metadata": {},
   "outputs": [],
   "source": [
    "import json\n",
    "\n",
    "# Store cookies in a file\n",
    "with open('cookies.json', 'w') as file:\n",
    "    json.dump(cookies, file) "
   ]
  },
  {
   "cell_type": "code",
   "execution_count": 51,
   "metadata": {},
   "outputs": [],
   "source": [
    "driver = webdriver.Chrome()\n",
    "\n",
    "# Load cookies to a vaiable from a file\n",
    "with open('cookies.json', 'r') as file:\n",
    "    cookies = json.load(file)\n",
    "\n",
    "# Goto the same URL\n",
    "driver.get('https://www.linkedin.com/jobs/view/3909538227/?alternateChannel=search&refId=%2BzRRMB7yecLyf3bzCypFug%3D%3D&trackingId=pkmo402JVW0kOtP1XkXCdg%3D%3D')\n",
    "\n",
    "# Set stored cookies to maintain the session\n",
    "for cookie in cookies:\n",
    "    driver.add_cookie(cookie)\n",
    "time.sleep(5)\n",
    "driver.get('https://www.linkedin.com/jobs/view/3909538227/?alternateChannel=search&refId=%2BzRRMB7yecLyf3bzCypFug%3D%3D&trackingId=pkmo402JVW0kOtP1XkXCdg%3D%3D')\n"
   ]
  },
  {
   "cell_type": "code",
   "execution_count": 52,
   "metadata": {},
   "outputs": [],
   "source": [
    "# # Retrieve the fully rendered HTML\n",
    "html_content = driver.page_source\n",
    "\n",
    "# use BeautifulSoup to parse the HTML content\n",
    "soup = BeautifulSoup(html_content, 'html.parser')"
   ]
  },
  {
   "cell_type": "code",
   "execution_count": 53,
   "metadata": {},
   "outputs": [],
   "source": [
    "qualifications_div = soup.find('div', id='how-you-match-card-container')\n",
    "title = soup.find('h1', class_='t-24 t-bold job-details-jobs-unified-top-card__job-title').text.strip()"
   ]
  },
  {
   "cell_type": "code",
   "execution_count": 54,
   "metadata": {},
   "outputs": [
    {
     "data": {
      "text/plain": [
       "'Data Analyst / Performance Analyst Renewable Energies (m/f/d)'"
      ]
     },
     "execution_count": 54,
     "metadata": {},
     "output_type": "execute_result"
    }
   ],
   "source": [
    "title"
   ]
  },
  {
   "cell_type": "markdown",
   "metadata": {},
   "source": []
  },
  {
   "cell_type": "code",
   "execution_count": 3,
   "metadata": {},
   "outputs": [],
   "source": [
    "import tkinter as tk"
   ]
  },
  {
   "cell_type": "code",
   "execution_count": 51,
   "metadata": {},
   "outputs": [],
   "source": [
    "#create dict and dict entries\n",
    "job_posting = {}\n",
    "\n",
    "job_posting[\"title\"] = \"\"\n",
    "job_posting[\"kennziffer\"] = \"\"\n",
    "job_posting[\"Aufgaben\"] = []\n",
    "job_posting[\"Aufgaben_Beschreibung\"] = []\n",
    "job_posting[\"Profil\"] = []\n",
    "job_posting[\"Profil_Beschreibung\"] = []\n",
    "job_posting[\"Benefits\"] = []\n",
    "job_posting[\"Benefits_Beschreibung\"] = []\n",
    "job_posting[\"Jobbeschreibung\"] = []\n",
    "job_posting[\"Aufgaben_Beschreibung_Teil2\"] = []\n",
    "job_posting[\"Profil_Beschreibung_Teil2\"] = []\n",
    "job_posting[\"Benefits_Beschreibung_Teil2\"] = []\n",
    "job_posting[\"Ansprechpartnerin\"] = \"\"\n",
    "job_posting[\"Arbeitsbeginn\"] = \"\"\n",
    "job_posting[\"Company\"] = \"\"\n",
    "job_posting[\"deadline\"] = \"\"\n",
    "job_posting[\"Berufserfahrung\"] = \"\"\n",
    "job_posting[\"Bewerbungsprozess\"] = \"\"\n",
    "job_posting[\"pub_date\"] = \"\"\n",
    "job_posting[\"job_type\"] = \"\"\n",
    "\n",
    "# function to reverse list\n",
    "def reverse_list(input_list):\n",
    "    input_list.reverse()\n",
    "    input_list = [item for item in input_list if item != '']\n",
    "    return input_list\n",
    "\n",
    "#Define text replacements for section titles\n",
    "\n",
    "# Define replacements\n",
    "replacements = {\n",
    "    \"Profil\": \"Profil\",\n",
    "    \"PROFIL\": \"Profil\",\n",
    "    \"Qualifications\": \"Profil\",\n",
    "    \"WIR LIEBEN\": \"Profil\",\n",
    "    \"Das bringst du mit\": \"Profil\",\n",
    "    \"Sie bringen mit\": \"Profil\",\n",
    "    \"AUFGABEN\": \"Aufgaben\",\n",
    "    \"Aufgaben\": \"Aufgaben\",\n",
    "    \"Responsibilities\": \"Aufgaben\",\n",
    "    \"Arbeitsgebiet umfasst\": \"Aufgaben\",\n",
    "    \"Das erwartet dich bei uns\": \"Aufgaben\",\n",
    "    \"Deine Aufgaben\": \"Aufgaben\",\n",
    "    \"Deine Aufgaben\": \"Aufgaben\",\n",
    "    \"DU LIEBST\": \"Aufgaben\",\n",
    "    \"BENEFITS\": \"Benefits\",\n",
    "    \"Perks\": \"Benefits\",\n",
    "    \"Das bieten wir dir\": \"Benefits\",\n",
    "    \"Wir bieten\": \"Benefits\",\n",
    "    \"Benefits\": \"Benefits\"\n",
    "}"
   ]
  },
  {
   "cell_type": "code",
   "execution_count": 6,
   "metadata": {},
   "outputs": [],
   "source": [
    "#url = \"https://www.linkedin.com/jobs/view/3905672523/?alternateChannel=search&refId=JCKMs1vNWORmdIcBKP7oGg%3D%3D&trackingId=08Mo4tb4b4dO5%2BSnhO%2Fttg%3D%3D\"\n",
    "url = \"https://www.linkedin.com/jobs/view/3895937129/?refId=c9a65337-e0ff-4d40-b582-5318a673b9bb&trackingId=nf6cCq%2BmSUyLvwimGb8cDw%3D%3D\"\n",
    "\n",
    "import json\n",
    "\n",
    "driver = webdriver.Chrome()\n",
    "\n",
    "# Load cookies to a variable from a file\n",
    "with open('cookies.json', 'r') as file:\n",
    "    cookies = json.load(file)\n",
    "\n",
    "# Goto the same URL\n",
    "driver.get(url)\n",
    "\n",
    "# Set stored cookies to maintain the session\n",
    "for cookie in cookies:\n",
    "    driver.add_cookie(cookie)\n",
    "time.sleep(5)\n",
    "driver.get(url)\n",
    "time.sleep(5)\n",
    "\n",
    "\n",
    "# # Retrieve the fully rendered HTML\n",
    "html_content = driver.page_source"
   ]
  },
  {
   "cell_type": "code",
   "execution_count": 7,
   "metadata": {},
   "outputs": [],
   "source": [
    "# use BeautifulSoup to parse the HTML content\n",
    "soup = BeautifulSoup(html_content, 'html.parser')"
   ]
  },
  {
   "cell_type": "code",
   "execution_count": 71,
   "metadata": {},
   "outputs": [],
   "source": [
    "\n",
    "\n",
    "# Get Job Title\n",
    "def linkedin_job_title():\n",
    "    job_posting[\"title\"] = soup.find('h1', class_='t-24 t-bold job-details-jobs-unified-top-card__job-title').text.strip()\n",
    "# call function\n",
    "linkedin_job_title()\n",
    "# Scratch information from first job details div\n",
    "# Get company name\n",
    "def linkedin_job_details():\n",
    "    job_details_div = soup.find('div', {'class':'job-details-jobs-unified-top-card__primary-description-without-tagline mb2'})\n",
    "    job_details_2 = soup.find('li', {'class':'job-details-jobs-unified-top-card__job-insight job-details-jobs-unified-top-card__job-insight--highlight'})\n",
    "    #find out the job type (full-time, part-time, etc.)\n",
    "    try:\n",
    "        job_posting[\"job_type\"] = job_details_2.find_all('span', {'class':'job-details-jobs-unified-top-card__job-insight-view-model-secondary'})[0].find('span', {'aria-hidden':'true'}).text.strip()\n",
    "    except AttributeError:\n",
    "        job_posting[\"job_type\"] = \"\"\n",
    "    job_posting[\"Company\"] = job_details_div.find('a').text.strip()\n",
    "    job_posting[\"pub_date\"] = job_details_div.find(lambda tag: tag.name == 'span' and 'Vor' in tag.get_text()).text.strip()\n",
    "# call function\n",
    "linkedin_job_details()\n",
    "# Get skills from LinkedIn Job Posting\n",
    "def get_linkedin_skills():\n",
    "    qualifications_div = soup.find('div', id='how-you-match-card-container')\n",
    "    qualifications = qualifications_div.find_all('h3', {'class':'t-14 t-bold'})\n",
    "    for qual in qualifications:\n",
    "        key_qual = qual.find_next_sibling(\"a\").text.replace(\" und\",\",\").replace(\"\\n\",\"\").strip()\n",
    "        qual_stripped = qual.text.replace(\"Kenntnisse fehlen auf Ihrem Profil\",\"Fehlende Kenntnisse\").replace(\"Kenntnisse auf Ihrem Profil\",\"Bestehende Kenntnisse\").strip()[2:].lstrip()\n",
    "        job_posting[qual_stripped] = key_qual\n",
    "# call function\n",
    "get_linkedin_skills()\n",
    "\n",
    "### Get job description section\n",
    "\n",
    "def get_text_before_list(target_element,section_heading):\n",
    "    liste = []\n",
    "    # Get all previous siblings until the specified string is found\n",
    "    previous_siblings = list(target_element.find_previous_siblings())\n",
    "    # Print the previous siblings until the specific string is found\n",
    "    for sibling in previous_siblings:\n",
    "        # Check if the specific string is found in the sibling element\n",
    "        liste.append(sibling.text.strip())\n",
    "        filtered_list = list(filter(lambda x: x != '', liste))\n",
    "        filtered_list.reverse()\n",
    "        if section_heading.text.strip() in sibling.get_text():\n",
    "            break\n",
    "    return filtered_list\n",
    "\n",
    "\n",
    "def get_selected_option(loop_number):\n",
    "    # Create a Toplevel window\n",
    "    dialog = tk.Toplevel(root)\n",
    "    dialog.title(\"Wähle Section aus für:{}\".format(loop_number))\n",
    "\n",
    "    # # Define a list of options\n",
    "    options = [\"Aufgaben\", \"Profil\", \"Benefits\", \"Jobbeschreibung\", \"Firmenprofil\", \"Bewerbungsablauf\"]\n",
    "\n",
    "    # Create a variable to store the selected option\n",
    "    selected_option = tk.StringVar(dialog)\n",
    "    selected_option.set(options[0])  # Set default option\n",
    "\n",
    "    # Create a dropdown menu (OptionMenu) for selecting an option\n",
    "    option_menu = tk.OptionMenu(dialog, selected_option, *options)\n",
    "    option_menu.pack()\n",
    "\n",
    "    def ok():\n",
    "        dialog.destroy()\n",
    "\n",
    "    # Create an \"OK\" button to confirm selection and close the dialog\n",
    "    ok_button = tk.Button(dialog, text=\"Auswählen\", command=ok)\n",
    "    ok_button.pack()\n",
    "\n",
    "    # Set the size of the dialog window\n",
    "    dialog.geometry(\"700x400\")  # Adjust the width and height as needed\n",
    "\n",
    "    # Wait for the dialog window to be closed\n",
    "    dialog.wait_window()\n",
    "\n",
    "    # Return the selected option\n",
    "    return selected_option.get()\n",
    "\n",
    "def get_section_content():\n",
    "    job_description = soup.find('article', class_='jobs-description__container jobs-description__container--condensed')\n",
    "    # Find all <ul> elements within the job description\n",
    "    uls = job_description.find_all('ul')\n",
    "    options = [\"Aufgaben\", \"Profil\", \"Benefits\", \"Jobbeschreibung\", \"Firmenprofil\", \"Bewerbungsablauf\"]\n",
    "\n",
    "    # Extract list items from each <ul> and put them into separate lists\n",
    "    for index, ul in enumerate(uls, start=1):\n",
    "        list_entries = [li.get_text(strip=True) for li in ul.find_all('li')]\n",
    "        # Remove newline characters from list entries\n",
    "        list_entries = [entry.replace('\\n', '') for entry in list_entries]\n",
    "        # Get section heading to assign lists to the right section => use if statements for different html structures\n",
    "        ### ul are nested inside spans, so siblings are on the parent level of uls\n",
    "        siblings_level = ul.parent\n",
    "        prev_sib_parent = ul.parent.previous_sibling\n",
    "        if prev_sib_parent is not None:\n",
    "            prev_sib_grandparent = ul.parent.previous_sibling.previous_sibling\n",
    "        else: prev_sib_grandparent = None\n",
    "        if prev_sib_grandparent is not None:\n",
    "            prev_sib_greatgrandparent = ul.parent.previous_sibling.previous_sibling.previous_sibling\n",
    "        else: prev_sib_greatgrandparent = None\n",
    "        if prev_sib_parent.text.strip() != '':\n",
    "            parent = prev_sib_parent\n",
    "            parent_text = prev_sib_parent.text.strip()\n",
    "            keyword = uls[0].parent.find_previous_sibling().text.strip()\n",
    "            # Perform multiple replacements\n",
    "            for key, value in replacements.items():\n",
    "                if key in parent_text:\n",
    "                    # Replace the entire original string with the corresponding replacement value\n",
    "                    parent_text = value\n",
    "                    # Break the loop after the first replacement is done\n",
    "                    break\n",
    "            if parent_text in options:\n",
    "                section = f'{parent_text}_Beschreibung'\n",
    "                job_posting[section] = get_text_before_list(siblings_level,parent)\n",
    "            else:\n",
    "                parent_text = get_selected_option(ul.text.strip().replace('\\n', ' '))\n",
    "        elif prev_sib_grandparent.text.strip() != '':\n",
    "            parent = prev_sib_grandparent\n",
    "            parent_text = prev_sib_grandparent.text.strip()\n",
    "            keyword = uls[0].parent.find_previous_sibling().find_previous_sibling().text.strip()\n",
    "            # Perform multiple replacements\n",
    "            for key, value in replacements.items():\n",
    "                if key in parent_text:\n",
    "                    # Replace the entire original string with the corresponding replacement value\n",
    "                    parent_text = value\n",
    "                    # Break the loop after the first replacement is done\n",
    "                    break\n",
    "            if parent_text in options:\n",
    "                section = f'{parent_text}_Beschreibung'\n",
    "                job_posting[section] = get_text_before_list(siblings_level,parent)\n",
    "            else:\n",
    "                parent_text = get_selected_option(ul.text.strip().replace('\\n', ' '))\n",
    "        elif prev_sib_greatgrandparent.text.strip() != '':\n",
    "            parent = prev_sib_greatgrandparent\n",
    "            parent_text = prev_sib_greatgrandparent.text.strip()\n",
    "            keyword = uls[0].parent.find_previous_sibling().find_previous_sibling().find_previous_sibling().text.strip()\n",
    "            # Perform multiple replacements\n",
    "            for key, value in replacements.items():\n",
    "                if key in parent_text:\n",
    "                    # Replace the entire original string with the corresponding replacement value\n",
    "                    parent_text = value\n",
    "                    # Break the loop after the first replacement is done\n",
    "                    break\n",
    "            if parent_text in options:\n",
    "                section = f'{parent_text}_Beschreibung'\n",
    "                job_posting[section] = get_text_before_list(siblings_level,parent)\n",
    "            else:\n",
    "                parent_text = get_selected_option(ul.text.strip().replace('\\n', ' '))\n",
    "        else:\n",
    "            parent_text = get_selected_option(ul.text.strip())\n",
    "        job_posting[parent_text]= list_entries\n",
    "        # if ul.previous_siblings is not None:\n",
    "        #     siblings = ul.parent.previous_siblings\n",
    "        #     liste_previous = [sibling.text.strip().replace(\"\\n\",\"\") for sibling in siblings] \n",
    "        #     if liste_previous is not None:\n",
    "        #         liste_previous = reverse_list(liste_previous)\n",
    "        #     if parent_text == \"Aufgaben\":\n",
    "        #         if job_posting[\"Aufgaben_Beschreibung\"] == []:\n",
    "        #             job_posting[\"Aufgaben_Beschreibung\"] = liste_previous\n",
    "        #     if parent_text == \"Profil\":\n",
    "        #         if job_posting[\"Profil_Beschreibung\"] == []:\n",
    "        #             job_posting[\"Profil_Beschreibung\"] = liste_previous\n",
    "        #     if parent_text == \"Benefits\":\n",
    "        #         if job_posting[\"Benefits_Beschreibung\"] == []:\n",
    "        #             job_posting[\"Benefits_Beschreibung\"] = liste_previous\n",
    "        # if ul.next_siblings is not None:\n",
    "        #     siblings = ul.parent.next_siblings\n",
    "        #     liste_next = [sibling.text.strip().replace(\"\\n\",\"\") for sibling in siblings] \n",
    "        #     if liste_next is not None:\n",
    "        #         liste_next = reverse_list(liste_next)\n",
    "        #     if parent_text == \"Aufgaben\":\n",
    "        #         if job_posting[\"Aufgaben_Beschreibung_Teil2\"] == []:\n",
    "        #             job_posting[\"Aufgaben_Beschreibung_Teil2\"] = liste_next\n",
    "        #     if parent_text == \"Profil\":\n",
    "        #         if job_posting[\"Profil_Beschreibung_Teil2\"] == []:\n",
    "        #             job_posting[\"Profil_Beschreibung_Teil2\"] = liste_next\n",
    "        #     if parent_text == \"Benefits\":\n",
    "        #         if job_posting[\"Benefits_Beschreibung_Teil2\"] == []:\n",
    "        #             job_posting[\"Benefits_Beschreibung_Teil2\"] = liste_next\n",
    "\n",
    "\n",
    "# Create a Tkinter root window\n",
    "root = tk.Tk()\n",
    "root.withdraw()  # Hide the root window\n",
    "\n",
    "get_section_content()\n",
    "\n",
    "# Close the Tkinter root window\n",
    "root.destroy()"
   ]
  },
  {
   "cell_type": "code",
   "execution_count": 72,
   "metadata": {},
   "outputs": [
    {
     "data": {
      "text/plain": [
       "{'title': 'Data Analyst*in',\n",
       " 'kennziffer': '',\n",
       " 'Aufgaben': ['Datenanalyse: Anfragen unterschiedlicher Komplexität begleitest Du von der Auftragsklärung bis zur zielgruppengerechten Ergebnispräsentation. Dabei nutzt Du abhängig von der Fragestellung verschiedene Analyse- und Visualisierungsmethoden.',\n",
       "  'Business Intelligence:Du erstellst und pflegst Dashboards und Reports, die wiederkehrende Fragen für unterschiedliche Stakeholder beantworten und einen klaren Überblick über relevante Organisationsprozesse bieten.',\n",
       "  'Datenqualität:Du trägst zur Überwachung, Sicherung und Optimierung der Datenqualität und -konsistenz bei, um eine zuverlässige Basis für fundierte Entscheidungsprozesse zu schaffen.',\n",
       "  'Dateninfrastruktur:In enger Zusammenarbeit mit unserer Data Unit förderst Du die Weiterentwicklung, Automatisierung und Wartung von Datenstrukturen und Datenquellen des Data Warehouses, um eine robuste und fortschrittliche Datenplattform zu gewährleisten.'],\n",
       " 'Aufgaben_Beschreibung': ['Wir erwarten nicht, dass Du bereits mit allen hier aufgelisteten Aufgaben vertraut bist, solange Du motiviert bist, stetig zu lernen, Neues auszuprobieren sowie kreativ und datenbasiert zu arbeiten.'],\n",
       " 'Profil': ['Du hast Lust darauf, das Team “Analytics” mit zu unterstützen. Dafür bringst Du Eigeninitiative, Neugierde, Offenheit und Zuverlässigkeit.',\n",
       "  'Du hast mehrjährige Berufserfahrung als Data Analyst*in oder in angrenzenden Disziplinen gesammelt, gern im Kontext von Digital und E-Mail Marketing oder ähnlichen Bereichen. Du verfügst über gute Kenntnisse in SQL und Datenbanken, und es wäre optimal, wenn du bereits erste Erfahrungen mit Python gesammelt hast.',\n",
       "  'Du hast Erfahrung mit einem Business Intelligence Tool, insbesondere in der Datenvisualisierung. Wir verwenden aktuell Metabase.',\n",
       "  'Es fällt Dir leicht, Fachinhalte für alle Beteiligten zu übersetzen, geduldig und empathisch zu sein.',\n",
       "  'Du tauschst Dich aktiv mit Kolleg*innen aus, teilst Wissen und Feedback, um die Zusammenarbeit zu stärken und gemeinsame Ziele zu erreichen.'],\n",
       " 'Profil_Beschreibung': ['Unsere Profilbeschreibung enthält eine Vielzahl sehr unterschiedlicher Kompetenzen, welche wir für diese Stelle relevant finden. Sie soll Dich aber nicht daran hindern, Dich zu bewerben, auch wenn nicht alle Punkte auf Dich zutreffen.'],\n",
       " 'Benefits': ['Wir setzen auf eine umfassende Einarbeitung, u.a. durch unser Pat*innen-Programm, und ermöglichen Dir viele Weiterbildungsmöglichkeiten.'],\n",
       " 'Benefits_Beschreibung': ['Du erhältst eine unbefristete Stelle mit einer Vergütung in Anlehnung an die TVöD-Entgeltgruppe 13.Wir bieten Dir eine Vielzahl von attraktiven Sozialleistungen, u.a. monatliche Kinderzuschläge (bei Vollzeit z.B. 470 € für das 1.Kind).Uns ist die Vereinbarkeit von Beruf und Privatleben wichtig. Auch wenn es immer mal wieder Hochphasen gibt, achten wir sehr genau darauf, Überstunden auszugleichen. Dazu hast Du die Möglichkeit, deine Arbeitszeit auf bis zu 32 Wochenstunden zu reduzieren. Zur Erholung stehen Dir jährlich 30 Urlaubstage zur Verfügung.Wir leben eine wertschätzende und offene Feedback- und Führungskultur und vergessen auch nicht, unsere Erfolge gemeinsam zu feiern. Ein guter Teamzusammenhalt und Humor sind uns wichtig.'],\n",
       " 'Jobbeschreibung': [],\n",
       " 'Aufgaben_Beschreibung_Teil2': [],\n",
       " 'Profil_Beschreibung_Teil2': [],\n",
       " 'Benefits_Beschreibung_Teil2': [],\n",
       " 'Ansprechpartnerin': '',\n",
       " 'Arbeitsbeginn': '',\n",
       " 'Company': 'Campact e.V.',\n",
       " 'deadline': '',\n",
       " 'Berufserfahrung': '',\n",
       " 'Bewerbungsprozess': '',\n",
       " 'pub_date': 'Vor 1 Woche',\n",
       " 'job_type': 'Vollzeit',\n",
       " 'Unser Angebot': ['Campact ist eine starke Stimme im politischen Diskurs. Hier kannst Duwirklich viel bewegen.'],\n",
       " 'Campact ist eine starke Stimme im politischen Diskurs. Hier kannst Du wirklich viel bewegen.': ['Du leistest einen direkten Beitrag zur positiven Veränderung von Politik und Gesellschaft, zu sozialer Gerechtigkeit, ökologischer Nachhaltigkeit, Toleranz und Gleichberechtigung.',\n",
       "  'Campact ist eine NGO, die unabhängig von Politik und Wirtschaftsinteressen agiert, Transparenz wird bei uns groß geschrieben (Hier geht es zum Transparenzbericht 2022).',\n",
       "  'Du hast Gestaltungsfreiheit, mit einem motivierten Team einen Bereich neu aufzubauen und dabei Deine Ideen sowie Persönlichkeit einzubringen.'],\n",
       " 'Du leistest einen direkten Beitrag zur positiven Veränderung von Politik und Gesellschaft, zu sozialer Gerechtigkeit, ökologischer Nachhaltigkeit, Toleranz und Gleichberechtigung.Campact ist eine NGO, die unabhängig von Politik und Wirtschaftsinteressen agiert, Transparenz wird bei uns groß geschrieben (Hier geht es zum Transparenzbericht 2022).Du hast Gestaltungsfreiheit, mit einem motivierten Team einen Bereich neu aufzubauen und dabei Deine Ideen sowie Persönlichkeit einzubringen.': ['Du erhältst eine unbefristete Stelle mit einer Vergütung in Anlehnung an dieTVöD-Entgeltgruppe 13.',\n",
       "  'Wir bieten Dir eine Vielzahl von attraktiven Sozialleistungen, u.a. monatliche Kinderzuschläge (bei Vollzeit z.B. 470 € für das 1.Kind).',\n",
       "  'Uns ist die Vereinbarkeit von Beruf und Privatleben wichtig. Auch wenn es immer mal wieder Hochphasen gibt, achten wir sehr genau darauf, Überstunden auszugleichen. Dazu hast Du die Möglichkeit, deine Arbeitszeit auf bis zu 32 Wochenstunden zu reduzieren. Zur Erholung stehen Dir jährlich 30 Urlaubstage zur Verfügung.',\n",
       "  'Wir leben einewertschätzende und offene Feedback- und Führungskulturund vergessen auch nicht, unsere Erfolge gemeinsam zu feiern. Ein guter Teamzusammenhalt und Humor sind uns wichtig.'],\n",
       " 'Wir setzen auf eine umfassende Einarbeitung, u.a. durch unser Pat*innen-Programm, und ermöglichen Dir viele Weiterbildungsmöglichkeiten.': ['Wir möchten die Gesellschaft in ihrerVielfaltrepräsentieren. Deshalb streben wir danach, diese Vielfalt auch in unserem Team abzubilden und setzen uns aktiv mit Diversitätsorientierung auseinander. Wir laden insbesondere Menschen mit Diskriminierungserfahrungen ein, sich bei uns zu bewerben.'],\n",
       " 'Homeoffice bei Campact': ['Uns ist es wichtig, dass unsere Mitarbeiter*innenBeruf und Privatleben gut vereinbarenkönnen – daher arbeiten wir fast ausschließlich im bezuschussten Homeoffice oder Co-Working-Space. Die Teamarbeit funktioniert über Mail, Chat, Video- und Telefonkonferenzen. Um gute Teamarbeit zu fördern, gibt es jedoch regelmäßige persönliche Treffen.',\n",
       "  'Durch eine monatlicheHomeoffice-Pauschalebezuschussen wir die Ausstattung für eine gesunde und produktive Remote-Arbeit.'],\n",
       " 'Uns ist es wichtig, bei der Stellenbesetzung möglichst diskriminierungsfrei auszuwählen und unseren Bewerber*innen einen guten Einblick in den Arbeitsalltag bei Campact zu gewähren. Deshalb gestalten wir den Prozess mehrstufig:': ['Bitte lade Deinen Lebenslauf (ohne Foto) über das Online-Bewerbungsformular',\n",
       "  'Anstatt eines Anschreibens beantworte uns bitte drei Fragen auf maximal 1 ½ Seiten:'],\n",
       " 'Bitte lade Deinen Lebenslauf (ohne Foto) über das Online-BewerbungsformularAnstatt eines Anschreibens beantworte uns bitte drei Fragen auf maximal 1 ½ Seiten:': ['Warum bewirbst Du Dich auf diese Stelle?',\n",
       "  'Welche drei Eigenschaften oder Fähigkeiten qualifizieren Dich besonders gut für diese Stelle als Data Analyst*in?',\n",
       "  'Was ist das spannendste Analytics-Projekt, an dem Du bisher gearbeitet hast und was war der Impact des Projekts?'],\n",
       " 'Warum bewirbst Du Dich auf diese Stelle?Welche drei Eigenschaften oder Fähigkeiten qualifizieren Dich besonders gut für diese Stelle als Data Analyst*in?Was ist das spannendste Analytics-Projekt, an dem Du bisher gearbeitet hast und was war der Impact des Projekts?': ['Sofern Deine Bewerbung zu uns passt, erwartet Dich zunächst ein telefonisches Interview mit unserer beauftragten PersonalberatungTalents4Good.',\n",
       "  'Danach gibt es für Dich möglicherweise eine Praxisaufgabe in Vorbereitung auf die Vorstellungsgespräche.',\n",
       "  'Die letzte Stufe ist ein Kennenlerngespräch mit unserer Teamleiterin Analytics und unserer Personalleitung per Video.',\n",
       "  'Wir planen den gesamten Prozess bis Anfang Juni abzuschließen. Alle passenden Kandidat*innen werden von uns zu den digitalen Vorstellungsgesprächen Ende Mai eingeladen.'],\n",
       " 'Firmenprofil': ['Sofern Deine Bewerbung zu uns passt, erwartet Dich zunächst ein telefonisches Interview mit unserer beauftragten PersonalberatungTalents4Good.',\n",
       "  'Danach gibt es für Dich möglicherweise eine Praxisaufgabe in Vorbereitung auf die Vorstellungsgespräche.',\n",
       "  'Die letzte Stufe ist ein Kennenlerngespräch mit unserer Teamleiterin Analytics und unserer Personalleitung per Video.',\n",
       "  'Wir planen den gesamten Prozess bis Anfang Juni abzuschließen. Alle passenden Kandidat*innen werden von uns zu den digitalen Vorstellungsgesprächen Ende Mai eingeladen.'],\n",
       " 'Bewerbungsablauf': ['Sofern Deine Bewerbung zu uns passt, erwartet Dich zunächst ein telefonisches Interview mit unserer beauftragten PersonalberatungTalents4Good.',\n",
       "  'Danach gibt es für Dich möglicherweise eine Praxisaufgabe in Vorbereitung auf die Vorstellungsgespräche.',\n",
       "  'Die letzte Stufe ist ein Kennenlerngespräch mit unserer Teamleiterin Analytics und unserer Personalleitung per Video.',\n",
       "  'Wir planen den gesamten Prozess bis Anfang Juni abzuschließen. Alle passenden Kandidat*innen werden von uns zu den digitalen Vorstellungsgesprächen Ende Mai eingeladen.']}"
      ]
     },
     "execution_count": 72,
     "metadata": {},
     "output_type": "execute_result"
    }
   ],
   "source": [
    "job_posting"
   ]
  },
  {
   "cell_type": "code",
   "execution_count": 8,
   "metadata": {},
   "outputs": [],
   "source": [
    "job_description = soup.find('article', class_='jobs-description__container jobs-description__container--condensed')\n",
    "# Find all <ul> elements within the job description\n",
    "uls = job_description.find_all('ul')"
   ]
  },
  {
   "cell_type": "code",
   "execution_count": 50,
   "metadata": {},
   "outputs": [
    {
     "data": {
      "text/plain": [
       "<span><p><span><br/></span></p></span>"
      ]
     },
     "execution_count": 50,
     "metadata": {},
     "output_type": "execute_result"
    }
   ],
   "source": [
    "uls[0].parent.previous_sibling.previous_sibling\n",
    "uls[0].parent.previous_sibling\n"
   ]
  },
  {
   "cell_type": "code",
   "execution_count": 56,
   "metadata": {},
   "outputs": [
    {
     "data": {
      "text/plain": [
       "<span><p><span><br/></span></p></span>"
      ]
     },
     "execution_count": 56,
     "metadata": {},
     "output_type": "execute_result"
    }
   ],
   "source": [
    "uls[1].parent\n",
    "uls[1].parent.previous_sibling\n",
    "prev_sib_grandparent = uls[1].parent.previous_sibling.previous_sibling\n",
    "prev_sib_grandparent\n",
    "prev_sib_greatgrandparent = uls[1].parent.previous_sibling.previous_sibling.previous_sibling\n",
    "prev_sib_greatgrandparent"
   ]
  },
  {
   "cell_type": "code",
   "execution_count": 62,
   "metadata": {},
   "outputs": [
    {
     "data": {
      "text/plain": [
       "['Deine Aufgaben',\n",
       " 'Wir erwarten nicht, dass Du bereits mit allen hier aufgelisteten Aufgaben vertraut bist, solange Du motiviert bist, stetig zu lernen, Neues auszuprobieren sowie kreativ und datenbasiert zu arbeiten.']"
      ]
     },
     "execution_count": 62,
     "metadata": {},
     "output_type": "execute_result"
    }
   ],
   "source": [
    "# Find the target element\n",
    "target_element = uls[0].parent\n",
    "# Define the string to check\n",
    "section_heading = \"Deine Aufgaben\"\n",
    "\n",
    "def get_text_before_list(target_element,section_heading):\n",
    "    liste = []\n",
    "    # Get all previous siblings until the specified string is found\n",
    "    previous_siblings = list(target_element.find_previous_siblings())\n",
    "    # Print the previous siblings until the specific string is found\n",
    "    for sibling in previous_siblings:\n",
    "        # Check if the specific string is found in the sibling element\n",
    "        liste.append(sibling.text.strip())\n",
    "        filtered_list = list(filter(lambda x: x != '', liste))\n",
    "        filtered_list.reverse()\n",
    "        if section_heading in sibling.get_text():\n",
    "            break\n",
    "    return filtered_list\n",
    "get_text_before_list(target_element,section_heading)"
   ]
  },
  {
   "cell_type": "code",
   "execution_count": 16,
   "metadata": {},
   "outputs": [
    {
     "name": "stdout",
     "output_type": "stream",
     "text": [
      "<span><p><span><br/></span></p></span>\n",
      "<span><p><!-- -->Unsere Profilbeschreibung enthält eine Vielzahl sehr unterschiedlicher Kompetenzen, welche wir für diese Stelle relevant finden. Sie soll Dich aber nicht daran hindern, Dich zu<span class=\"white-space-pre\"> </span><span><strong><!-- -->bewerben, auch wenn nicht alle Punkte auf Dich zutreffen<!-- --></strong></span><!-- -->.<!-- --></p></span>\n",
      "<span><p><span><br/></span></p></span>\n",
      "<span><p><span><strong><!-- -->Dein Profil<!-- --></strong></span></p></span>\n",
      "<span><p><span><br/></span></p></span>\n",
      "<span> <ul><span><li><span><strong><!-- -->Datenanalyse<!-- --></strong></span><!-- -->: Anfragen unterschiedlicher Komplexität begleitest Du von der Auftragsklärung bis zur zielgruppengerechten Ergebnispräsentation. Dabei nutzt Du abhängig von der Fragestellung verschiedene Analyse- und Visualisierungsmethoden.<!-- --></li></span><span><li><span><strong><!-- -->Business Intelligence:<span class=\"white-space-pre\"> </span></strong></span><!-- -->Du erstellst und pflegst Dashboards und Reports, die wiederkehrende Fragen für unterschiedliche Stakeholder beantworten und einen klaren Überblick über relevante Organisationsprozesse bieten.<!-- --></li></span><span><li><span><strong><!-- -->Datenqualität:<!-- --></strong></span><span class=\"white-space-pre\"> </span>Du trägst zur Überwachung, Sicherung und Optimierung der Datenqualität und -konsistenz bei, um eine zuverlässige Basis für fundierte Entscheidungsprozesse zu schaffen.<!-- --></li></span><span><li><span><strong><!-- -->Dateninfrastruktur:<!-- --></strong></span><span class=\"white-space-pre\"> </span>In enger Zusammenarbeit mit unserer Data Unit förderst Du die Weiterentwicklung, Automatisierung und Wartung von Datenstrukturen und Datenquellen des Data Warehouses, um eine robuste und fortschrittliche Datenplattform zu gewährleisten.<!-- --></li></span></ul>\n",
      "</span>\n",
      "<span><p><span><br/></span></p></span>\n",
      "<span><p><!-- -->Wir erwarten nicht, dass Du bereits mit allen hier aufgelisteten Aufgaben vertraut bist, solange Du motiviert bist, stetig zu lernen, Neues auszuprobieren sowie kreativ und datenbasiert zu arbeiten.<!-- --></p></span>\n",
      "<span><p><span><br/></span></p></span>\n",
      "<span><p><span><strong><!-- -->Deine Aufgaben<!-- --></strong></span></p></span>\n",
      "<span><p><span><br/></span></p></span>\n",
      "<span><p><!-- -->Campact ist eine Kampagnen-Organisation, mit der über 3 Millionen Menschen entschlossen für progressive Politik eintreten und unsere Demokratie verteidigen. Wenn wichtige politische Entscheidungen anstehen, starten wir Kampagnen – digital und auf der Straße. Wir schmieden breite Bündnisse und mobilisieren eine starke Bewegung für die gemeinsame Sache.<!-- --></p></span>\n",
      "<span><p><span><br/></span></p></span>\n",
      "<span><p><span><strong><!-- -->Über uns<!-- --></strong></span></p></span>\n",
      "<span><p><span><br/></span></p></span>\n",
      "<span><p><!-- -->Willst Du mit Daten die Welt verändern? Unser kleines, hochmotiviertes Team hat viel vor: Wir bauen ein Cloud Data Warehouse auf, um Daten aus allen Bereichen von Campact zu sammeln und Insights zu generieren, die die Wirksamkeit unserer Kampagnen erhöhen. Unser Ziel? Unterstützer*innen für die Arbeit von Campact zu gewinnen, zu binden und Informationen bereitzustellen, die den Unterschied machen. Wenn Du ein Faible für kreative Lösungen und ein Gespür für spannende Daten hast, bist Du bei uns genau richtig.<!-- --></p></span>\n",
      "<span><p><span><br/></span></p></span>\n",
      "<span><p><!-- -->mit 32-39 Wochenstunden im Homeoffice.<!-- --></p></span>\n",
      "<span><p><!-- -->im Analytics-Team zum nächstmöglichen Zeitpunkt<!-- --></p></span>\n",
      "<span><p><span><br/></span></p></span>\n",
      "<span><p><span><strong><!-- -->Data Analyst*in<!-- --></strong></span></p></span>\n",
      "<span><p><span><br/></span></p></span>\n",
      "<span><p><!-- -->Campact e.V. sucht eine*n<!-- --></p></span>\n",
      "\n",
      "\n"
     ]
    }
   ],
   "source": [
    "for sibling in uls[1].parent.previous_siblings:\n",
    "    print(sibling)\n"
   ]
  },
  {
   "cell_type": "code",
   "execution_count": 100,
   "metadata": {},
   "outputs": [
    {
     "data": {
      "text/plain": [
       "<span><p><!-- -->Wir bieten Dir eine Kultur, die von unseren Führungsleitsätzen angetrieben wird: unternehmerisch, ergebnisorientiert, Eigenverantwortung fördernd und sich gegenseitig zum Erfolg verhelfend. Wir schaffen Transparenz über Unternehmensziele, Zusammenarbeit und Unterstützung durch ein internationales Team auf Augenhöhe. Wir leben Austausch, Teamgeist und einen respektvollen Umgang miteinander. Das verbindet uns hierarchieübergreifend – auch im Home-Office. So erhielten wir in 2022, 2023 und 2024 die kununu Auszeichnung „TOP Company“.<!-- --></p></span>"
      ]
     },
     "execution_count": 100,
     "metadata": {},
     "output_type": "execute_result"
    }
   ],
   "source": [
    "uls[2].parent.previous_sibling.previous_sibling"
   ]
  },
  {
   "cell_type": "code",
   "execution_count": 95,
   "metadata": {},
   "outputs": [],
   "source": [
    "target = uls[0].parent.previous_siblings\n",
    "stop_element = uls[0].parent.previous_sibling\n",
    "\n",
    "for sibling in target:\n",
    "    if sibling == stop_element:\n",
    "        break\n",
    "    previous_siblings.append(sibling)\n",
    "\n",
    "# Print the previous siblings\n",
    "for sibling in reversed(previous_siblings):\n",
    "    print(sibling)"
   ]
  },
  {
   "cell_type": "code",
   "execution_count": 82,
   "metadata": {},
   "outputs": [],
   "source": [
    "siblings = uls[0].next_siblings"
   ]
  },
  {
   "cell_type": "code",
   "execution_count": 81,
   "metadata": {},
   "outputs": [],
   "source": [
    "ul = uls[0]\n",
    "\n",
    "if ul.next_siblings is not None:\n",
    "    siblings = ul.next_siblings\n",
    "    liste_next = [sibling.text.strip().replace(\"\\n\",\"\") for sibling in siblings] \n",
    "    if liste_next is not None:\n",
    "        liste_next = reverse_list(liste_next)\n",
    "    if parent == \"Aufgaben\":\n",
    "        if job_posting[\"Aufgaben_Beschreibung_Teil2\"] == []:\n",
    "            job_posting[\"Aufgaben_Beschreibung_Teil2\"] = liste_next\n",
    "    if parent == \"Profil\":\n",
    "        if job_posting[\"Profil_Beschreibung_Teil2\"] == []:\n",
    "            job_posting[\"Profil_Beschreibung_Teil2\"] = liste_next\n",
    "    if parent == \"Benefits\":\n",
    "        if job_posting[\"Benefits_Beschreibung_Teil2\"] == []:\n",
    "            job_posting[\"Benefits_Beschreibung_Teil2\"] = liste_next"
   ]
  },
  {
   "cell_type": "code",
   "execution_count": null,
   "metadata": {},
   "outputs": [],
   "source": [
    "# Function to get the number of items to keep\n",
    "def get_number_of_items(parent_text):\n",
    "    num_items = simpledialog.askinteger(f\"Paragraphs before {parent_text}\", \"How many paragraphs do you want to keep?\")\n",
    "    return num_items\n",
    "\n",
    "my_list = my_list[:num_items]\n"
   ]
  },
  {
   "cell_type": "code",
   "execution_count": 76,
   "metadata": {},
   "outputs": [
    {
     "data": {
      "text/plain": [
       "<span> <ul><span><li><span><strong><!-- -->Datenanalyse<!-- --></strong></span><!-- -->: Anfragen unterschiedlicher Komplexität begleitest Du von der Auftragsklärung bis zur zielgruppengerechten Ergebnispräsentation. Dabei nutzt Du abhängig von der Fragestellung verschiedene Analyse- und Visualisierungsmethoden.<!-- --></li></span><span><li><span><strong><!-- -->Business Intelligence:<span class=\"white-space-pre\"> </span></strong></span><!-- -->Du erstellst und pflegst Dashboards und Reports, die wiederkehrende Fragen für unterschiedliche Stakeholder beantworten und einen klaren Überblick über relevante Organisationsprozesse bieten.<!-- --></li></span><span><li><span><strong><!-- -->Datenqualität:<!-- --></strong></span><span class=\"white-space-pre\"> </span>Du trägst zur Überwachung, Sicherung und Optimierung der Datenqualität und -konsistenz bei, um eine zuverlässige Basis für fundierte Entscheidungsprozesse zu schaffen.<!-- --></li></span><span><li><span><strong><!-- -->Dateninfrastruktur:<!-- --></strong></span><span class=\"white-space-pre\"> </span>In enger Zusammenarbeit mit unserer Data Unit förderst Du die Weiterentwicklung, Automatisierung und Wartung von Datenstrukturen und Datenquellen des Data Warehouses, um eine robuste und fortschrittliche Datenplattform zu gewährleisten.<!-- --></li></span></ul>\n",
       "</span>"
      ]
     },
     "execution_count": 76,
     "metadata": {},
     "output_type": "execute_result"
    }
   ],
   "source": [
    "uls[0].parent"
   ]
  },
  {
   "cell_type": "code",
   "execution_count": 84,
   "metadata": {},
   "outputs": [
    {
     "data": {
      "text/plain": [
       "['Deine Aufgaben',\n",
       " 'Wir erwarten nicht, dass Du bereits mit allen hier aufgelisteten Aufgaben vertraut bist, solange Du motiviert bist, stetig zu lernen, Neues auszuprobieren sowie kreativ und datenbasiert zu arbeiten.']"
      ]
     },
     "execution_count": 84,
     "metadata": {},
     "output_type": "execute_result"
    },
    {
     "ename": "",
     "evalue": "",
     "output_type": "error",
     "traceback": [
      "\u001b[1;31mThe Kernel crashed while executing code in the current cell or a previous cell. \n",
      "\u001b[1;31mPlease review the code in the cell(s) to identify a possible cause of the failure. \n",
      "\u001b[1;31mClick <a href='https://aka.ms/vscodeJupyterKernelCrash'>here</a> for more info. \n",
      "\u001b[1;31mView Jupyter <a href='command:jupyter.viewOutput'>log</a> for further details."
     ]
    }
   ],
   "source": [
    "def get_all_text_before_list(target_element):\n",
    "    liste = []\n",
    "    # Get all previous siblings until the specified string is found\n",
    "    previous_siblings = list(target_element.find_previous_siblings())\n",
    "    # Print the previous siblings until the specific string is found\n",
    "    for sibling in previous_siblings:\n",
    "        # Check if the specific string is found in the sibling element\n",
    "        liste.append(sibling.text.strip())\n",
    "    filtered_list = list(filter(lambda x: x != '', liste))\n",
    "    return filtered_list\n",
    "my_list = get_all_text_before_list(uls[0].parent)\n",
    "\n",
    "\n",
    "my_list = my_list[:2]\n",
    "my_list.reverse()\n",
    "my_list"
   ]
  }
 ],
 "metadata": {
  "kernelspec": {
   "display_name": ".venv",
   "language": "python",
   "name": "python3"
  },
  "language_info": {
   "codemirror_mode": {
    "name": "ipython",
    "version": 3
   },
   "file_extension": ".py",
   "mimetype": "text/x-python",
   "name": "python",
   "nbconvert_exporter": "python",
   "pygments_lexer": "ipython3",
   "version": "3.12.2"
  }
 },
 "nbformat": 4,
 "nbformat_minor": 2
}
